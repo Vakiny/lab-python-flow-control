{
 "cells": [
  {
   "cell_type": "markdown",
   "id": "d3bfc191-8885-42ee-b0a0-bbab867c6f9f",
   "metadata": {
    "tags": []
   },
   "source": [
    "# Lab | Flow Control"
   ]
  },
  {
   "cell_type": "markdown",
   "id": "3851fcd1-cf98-4653-9c89-e003b7ec9400",
   "metadata": {},
   "source": [
    "## Exercise: Managing Customer Orders Optimized\n",
    "\n",
    "In the last lab, you were starting an online store that sells various products. To ensure smooth operations, you developed a program that manages customer orders and inventory.\n",
    "\n",
    "You did so without using flow control. Let's go a step further and improve this code.\n",
    "\n",
    "Follow the steps below to complete the exercise:\n",
    "\n",
    "1. Look at your code from the lab data structures, and improve repeated code with loops.\n",
    "\n",
    "2. Instead of asking the user to input the name of three products that a customer wants to order, do the following:\n",
    "    \n",
    "    a. Prompt the user to enter the name of a product that a customer wants to order.\n",
    "    \n",
    "    b. Add the product name to the \"customer_orders\" set.\n",
    "    \n",
    "    c. Ask the user if they want to add another product (yes/no).\n",
    "    \n",
    "    d. Continue the loop until the user does not want to add another product.\n",
    "\n",
    "3. Instead of updating the inventory by subtracting 1 from the quantity of each product, only do it for  the products that were ordered (those in \"customer_orders\")."
   ]
  },
  {
   "cell_type": "code",
   "execution_count": 6,
   "id": "f88717a3-f507-4306-9b72-adba48b93162",
   "metadata": {},
   "outputs": [],
   "source": [
    "products = [\"t-shirt\", \"mug\", \"hat\", \"book\", \"keychain\"]\n",
    "inventory = {}"
   ]
  },
  {
   "cell_type": "code",
   "execution_count": 8,
   "id": "d5e75322-54f1-4a63-8378-0e2d98e2f19b",
   "metadata": {},
   "outputs": [
    {
     "name": "stdout",
     "output_type": "stream",
     "text": [
      "Input the quantity available for each product:\n"
     ]
    },
    {
     "name": "stdin",
     "output_type": "stream",
     "text": [
      "Enter quantity for t-shirt:  5\n",
      "Enter quantity for mug:  6\n",
      "Enter quantity for hat:  5\n",
      "Enter quantity for book:  5\n",
      "Enter quantity for keychain:  5\n"
     ]
    }
   ],
   "source": [
    "print(\"Input the quantity available for each product:\")\n",
    "for product in products:\n",
    "    quantity = int(input(f\"Enter quantity for {product}: \"))\n",
    "    inventory[product] = quantity"
   ]
  },
  {
   "cell_type": "code",
   "execution_count": 10,
   "id": "6401d4a1-cd46-42d0-8b0f-54e7b7a188fa",
   "metadata": {},
   "outputs": [],
   "source": [
    "customer_orders = set()"
   ]
  },
  {
   "cell_type": "code",
   "execution_count": 20,
   "id": "8ab9d811-ae4d-4618-9c93-4a128ad9c77a",
   "metadata": {},
   "outputs": [
    {
     "name": "stdin",
     "output_type": "stream",
     "text": [
      "Enter the name of the product the customer wants:  mug\n",
      "Do you want to add another product? (yes/no):  no\n"
     ]
    }
   ],
   "source": [
    "while True:\n",
    "    order = input(\"Enter the name of the product the customer wants: \").strip().lower()\n",
    "    if order in products:\n",
    "        customer_orders.add(order)\n",
    "    else:\n",
    "        print(f\"{order} is not a valid product. Please enter a valid product name.\")\n",
    "    while True:\n",
    "        add_more = input(\"Do you want to add another product? (yes/no): \").strip().lower()\n",
    "        if add_more in ['yes', 'no']:\n",
    "            break\n",
    "        else:\n",
    "            print(\"Please type 'yes' or 'no'.\")\n",
    "\n",
    "    if add_more == 'no':\n",
    "        break"
   ]
  },
  {
   "cell_type": "code",
   "execution_count": 22,
   "id": "4ad2b97d-74ac-4c3b-9432-4462b0172c5b",
   "metadata": {},
   "outputs": [
    {
     "name": "stdout",
     "output_type": "stream",
     "text": [
      "\n",
      "Products ordered by the customer: {'book', 'hat', 'mug'}\n"
     ]
    }
   ],
   "source": [
    "print(\"\\nProducts ordered by the customer:\", customer_orders)"
   ]
  },
  {
   "cell_type": "code",
   "execution_count": 24,
   "id": "7ebe783b-7aee-4b71-b33a-c7994f8d63f3",
   "metadata": {},
   "outputs": [],
   "source": [
    "total_products_ordered = len(customer_orders)\n",
    "percentage_ordered = (total_products_ordered / len(products)) * 100\n",
    "order_status = (total_products_ordered, percentage_ordered)"
   ]
  },
  {
   "cell_type": "code",
   "execution_count": 26,
   "id": "0a55450c-7c54-49c0-95e6-63aa864b091a",
   "metadata": {},
   "outputs": [
    {
     "name": "stdout",
     "output_type": "stream",
     "text": [
      "\n",
      "Order Statistics:\n",
      "Total Products Ordered: 3\n",
      "Percentage of Products Ordered: 60.00%\n"
     ]
    }
   ],
   "source": [
    "print(\"\\nOrder Statistics:\")\n",
    "print(f\"Total Products Ordered: {order_status[0]}\")\n",
    "print(f\"Percentage of Products Ordered: {order_status[1]:.2f}%\")"
   ]
  },
  {
   "cell_type": "code",
   "execution_count": 28,
   "id": "94e7a2c0-61d1-4293-a9fd-60ac63e279b5",
   "metadata": {},
   "outputs": [],
   "source": [
    "for product in customer_orders:\n",
    "    if inventory[product] > 0:\n",
    "        inventory[product] -= 1"
   ]
  },
  {
   "cell_type": "code",
   "execution_count": 30,
   "id": "e602d9d7-2e69-41dd-a65c-9265b75d7b83",
   "metadata": {},
   "outputs": [
    {
     "name": "stdout",
     "output_type": "stream",
     "text": [
      "\n",
      "Updated Inventory:\n",
      "t-shirt: 5\n",
      "mug: 5\n",
      "hat: 4\n",
      "book: 4\n",
      "keychain: 5\n"
     ]
    }
   ],
   "source": [
    "print(\"\\nUpdated Inventory:\")\n",
    "for product, quantity in inventory.items():\n",
    "    print(f\"{product}: {quantity}\")"
   ]
  }
 ],
 "metadata": {
  "kernelspec": {
   "display_name": "Python 3 (ipykernel)",
   "language": "python",
   "name": "python3"
  },
  "language_info": {
   "codemirror_mode": {
    "name": "ipython",
    "version": 3
   },
   "file_extension": ".py",
   "mimetype": "text/x-python",
   "name": "python",
   "nbconvert_exporter": "python",
   "pygments_lexer": "ipython3",
   "version": "3.12.4"
  }
 },
 "nbformat": 4,
 "nbformat_minor": 5
}
